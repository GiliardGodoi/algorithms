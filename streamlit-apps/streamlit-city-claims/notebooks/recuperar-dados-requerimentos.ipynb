{
 "cells": [
  {
   "cell_type": "code",
   "execution_count": 1,
   "id": "ec068046",
   "metadata": {},
   "outputs": [],
   "source": [
    "# import spacy\n",
    "# from spacy import displacy\n",
    "\n",
    "# nlp = spacy.load(\"pt_core_news_lg\")\n",
    "# ner = nlp.get_pipe('ner')"
   ]
  },
  {
   "cell_type": "code",
   "execution_count": 1,
   "id": "776e6b98",
   "metadata": {},
   "outputs": [],
   "source": [
    "import pandas as pd\n",
    "import requests\n",
    "import sqlite3\n",
    "\n",
    "from collections import defaultdict\n",
    "from pathlib import Path\n",
    "from zipfile import ZipFile"
   ]
  },
  {
   "cell_type": "code",
   "execution_count": 2,
   "id": "e82bdefe",
   "metadata": {},
   "outputs": [],
   "source": [
    "# ZipFile('camsap2.zip').extractall('model')"
   ]
  },
  {
   "cell_type": "code",
   "execution_count": 3,
   "id": "4c1fdcb3",
   "metadata": {},
   "outputs": [],
   "source": [
    "# nlp = spacy.load(Path('model'))"
   ]
  },
  {
   "cell_type": "code",
   "execution_count": 4,
   "id": "16e4424c",
   "metadata": {},
   "outputs": [],
   "source": [
    "def get_data(year : int):\n",
    "    url = 'https://sapl.santoantoniodaplatina.pr.leg.br/api/materia/materialegislativa'\n",
    "    params = {\n",
    "        'ano' : year,\n",
    "        'tipo' : 13,\n",
    "        'page' : None\n",
    "    }\n",
    "    pagination = {'next_page' : 1}\n",
    "    data = list()\n",
    "\n",
    "    while pagination['next_page'] != None:\n",
    "      params['page'] = pagination['next_page']\n",
    "      response = requests.get(url, params=params)\n",
    "      content = response.json()\n",
    "      pagination = content['pagination']\n",
    "      results = content['results']\n",
    "      for r in results:\n",
    "        data.append({\n",
    "            '__str__' : r['__str__'],\n",
    "            'numero'  : r['numero'],\n",
    "            'ementa'  : r['ementa'],\n",
    "            'autores' : r['autores'],\n",
    "            'id' : r['id'],\n",
    "            'numero_protocolo' : r['numero_protocolo'],\n",
    "            'texto_original' : r['texto_original']\n",
    "        })\n",
    "    \n",
    "    return pd.DataFrame(data)"
   ]
  },
  {
   "cell_type": "code",
   "execution_count": 5,
   "id": "4188b43a",
   "metadata": {},
   "outputs": [],
   "source": [
    "con = sqlite3.connect(\"requerimentos.db\")"
   ]
  },
  {
   "cell_type": "code",
   "execution_count": 7,
   "id": "add528fc",
   "metadata": {
    "scrolled": false
   },
   "outputs": [],
   "source": [
    "years = [2021, 2022, 2023]\n",
    "data = list()\n",
    "for year in years:\n",
    "    df = get_data(year)\n",
    "    df.insert(1, 'ano', year)\n",
    "    df = df.rename(columns={'__str__' : 'requerimento'})\n",
    "    data.append(df)\n",
    "    "
   ]
  },
  {
   "cell_type": "code",
   "execution_count": 8,
   "id": "249dc1cb",
   "metadata": {},
   "outputs": [
    {
     "name": "stdout",
     "output_type": "stream",
     "text": [
      "<class 'pandas.core.frame.DataFrame'>\n",
      "RangeIndex: 690 entries, 0 to 689\n",
      "Data columns (total 8 columns):\n",
      " #   Column            Non-Null Count  Dtype \n",
      "---  ------            --------------  ----- \n",
      " 0   requerimento      690 non-null    object\n",
      " 1   ano               690 non-null    int64 \n",
      " 2   numero            690 non-null    int64 \n",
      " 3   ementa            690 non-null    object\n",
      " 4   autores           690 non-null    object\n",
      " 5   id                690 non-null    int64 \n",
      " 6   numero_protocolo  690 non-null    int64 \n",
      " 7   texto_original    690 non-null    object\n",
      "dtypes: int64(4), object(4)\n",
      "memory usage: 43.2+ KB\n"
     ]
    }
   ],
   "source": [
    "data[0].info()"
   ]
  },
  {
   "cell_type": "code",
   "execution_count": 9,
   "id": "d147fa0e",
   "metadata": {},
   "outputs": [
    {
     "data": {
      "text/html": [
       "<div>\n",
       "<style scoped>\n",
       "    .dataframe tbody tr th:only-of-type {\n",
       "        vertical-align: middle;\n",
       "    }\n",
       "\n",
       "    .dataframe tbody tr th {\n",
       "        vertical-align: top;\n",
       "    }\n",
       "\n",
       "    .dataframe thead th {\n",
       "        text-align: right;\n",
       "    }\n",
       "</style>\n",
       "<table border=\"1\" class=\"dataframe\">\n",
       "  <thead>\n",
       "    <tr style=\"text-align: right;\">\n",
       "      <th></th>\n",
       "      <th>requerimento</th>\n",
       "      <th>ano</th>\n",
       "      <th>numero</th>\n",
       "      <th>ementa</th>\n",
       "      <th>autores</th>\n",
       "      <th>id</th>\n",
       "      <th>numero_protocolo</th>\n",
       "      <th>texto_original</th>\n",
       "    </tr>\n",
       "  </thead>\n",
       "  <tbody>\n",
       "    <tr>\n",
       "      <th>0</th>\n",
       "      <td>Requerimento de Vereador(a) nº 1 de 2021</td>\n",
       "      <td>2021</td>\n",
       "      <td>1</td>\n",
       "      <td>Requerimento n° 01/2021, do Vereador Odemir Ja...</td>\n",
       "      <td>[13]</td>\n",
       "      <td>2664</td>\n",
       "      <td>48</td>\n",
       "      <td>https://sapl.santoantoniodaplatina.pr.leg.br/m...</td>\n",
       "    </tr>\n",
       "    <tr>\n",
       "      <th>1</th>\n",
       "      <td>Requerimento de Vereador(a) nº 2 de 2021</td>\n",
       "      <td>2021</td>\n",
       "      <td>2</td>\n",
       "      <td>Requerimento n° 02/2021, do Vereador Odemir Ja...</td>\n",
       "      <td>[13]</td>\n",
       "      <td>2665</td>\n",
       "      <td>49</td>\n",
       "      <td>https://sapl.santoantoniodaplatina.pr.leg.br/m...</td>\n",
       "    </tr>\n",
       "    <tr>\n",
       "      <th>2</th>\n",
       "      <td>Requerimento de Vereador(a) nº 3 de 2021</td>\n",
       "      <td>2021</td>\n",
       "      <td>3</td>\n",
       "      <td>Requerimento n° 03/2021, do Vereador Odemir Ja...</td>\n",
       "      <td>[13]</td>\n",
       "      <td>2666</td>\n",
       "      <td>50</td>\n",
       "      <td>https://sapl.santoantoniodaplatina.pr.leg.br/m...</td>\n",
       "    </tr>\n",
       "    <tr>\n",
       "      <th>3</th>\n",
       "      <td>Requerimento de Vereador(a) nº 4 de 2021</td>\n",
       "      <td>2021</td>\n",
       "      <td>4</td>\n",
       "      <td>Solicita ao Executivo que proceda a \"operação ...</td>\n",
       "      <td>[142]</td>\n",
       "      <td>2670</td>\n",
       "      <td>62</td>\n",
       "      <td>https://sapl.santoantoniodaplatina.pr.leg.br/m...</td>\n",
       "    </tr>\n",
       "    <tr>\n",
       "      <th>4</th>\n",
       "      <td>Requerimento de Vereador(a) nº 5 de 2021</td>\n",
       "      <td>2021</td>\n",
       "      <td>5</td>\n",
       "      <td>Solicita ao Executivo pavimentação asfáltica n...</td>\n",
       "      <td>[14]</td>\n",
       "      <td>2671</td>\n",
       "      <td>63</td>\n",
       "      <td>https://sapl.santoantoniodaplatina.pr.leg.br/m...</td>\n",
       "    </tr>\n",
       "  </tbody>\n",
       "</table>\n",
       "</div>"
      ],
      "text/plain": [
       "                               requerimento   ano  numero  \\\n",
       "0  Requerimento de Vereador(a) nº 1 de 2021  2021       1   \n",
       "1  Requerimento de Vereador(a) nº 2 de 2021  2021       2   \n",
       "2  Requerimento de Vereador(a) nº 3 de 2021  2021       3   \n",
       "3  Requerimento de Vereador(a) nº 4 de 2021  2021       4   \n",
       "4  Requerimento de Vereador(a) nº 5 de 2021  2021       5   \n",
       "\n",
       "                                              ementa autores    id  \\\n",
       "0  Requerimento n° 01/2021, do Vereador Odemir Ja...    [13]  2664   \n",
       "1  Requerimento n° 02/2021, do Vereador Odemir Ja...    [13]  2665   \n",
       "2  Requerimento n° 03/2021, do Vereador Odemir Ja...    [13]  2666   \n",
       "3  Solicita ao Executivo que proceda a \"operação ...   [142]  2670   \n",
       "4  Solicita ao Executivo pavimentação asfáltica n...    [14]  2671   \n",
       "\n",
       "   numero_protocolo                                     texto_original  \n",
       "0                48  https://sapl.santoantoniodaplatina.pr.leg.br/m...  \n",
       "1                49  https://sapl.santoantoniodaplatina.pr.leg.br/m...  \n",
       "2                50  https://sapl.santoantoniodaplatina.pr.leg.br/m...  \n",
       "3                62  https://sapl.santoantoniodaplatina.pr.leg.br/m...  \n",
       "4                63  https://sapl.santoantoniodaplatina.pr.leg.br/m...  "
      ]
     },
     "execution_count": 9,
     "metadata": {},
     "output_type": "execute_result"
    }
   ],
   "source": [
    "data[0].head()"
   ]
  },
  {
   "cell_type": "code",
   "execution_count": 10,
   "id": "27878f23",
   "metadata": {},
   "outputs": [],
   "source": [
    "for df in data:\n",
    "    df['autores'] = df['autores'].apply(lambda value : ','.join(str(x) for x in value))\n",
    "    df.to_sql('requerimento', con, index=False, if_exists='append')"
   ]
  },
  {
   "cell_type": "code",
   "execution_count": 11,
   "id": "8520f1fc",
   "metadata": {},
   "outputs": [],
   "source": [
    "df = pd.concat(data, axis=0)"
   ]
  },
  {
   "cell_type": "code",
   "execution_count": 12,
   "id": "4128d031",
   "metadata": {},
   "outputs": [
    {
     "name": "stdout",
     "output_type": "stream",
     "text": [
      "<class 'pandas.core.frame.DataFrame'>\n",
      "Index: 1677 entries, 0 to 298\n",
      "Data columns (total 8 columns):\n",
      " #   Column            Non-Null Count  Dtype  \n",
      "---  ------            --------------  -----  \n",
      " 0   requerimento      1677 non-null   object \n",
      " 1   ano               1677 non-null   int64  \n",
      " 2   numero            1677 non-null   int64  \n",
      " 3   ementa            1677 non-null   object \n",
      " 4   autores           1677 non-null   object \n",
      " 5   id                1677 non-null   int64  \n",
      " 6   numero_protocolo  1675 non-null   float64\n",
      " 7   texto_original    1671 non-null   object \n",
      "dtypes: float64(1), int64(3), object(4)\n",
      "memory usage: 117.9+ KB\n"
     ]
    }
   ],
   "source": [
    "df.info()"
   ]
  },
  {
   "cell_type": "code",
   "execution_count": null,
   "id": "39c5db0e",
   "metadata": {},
   "outputs": [],
   "source": []
  }
 ],
 "metadata": {
  "kernelspec": {
   "display_name": "aisap (Python 3.10)",
   "language": "python",
   "name": "aisap"
  },
  "language_info": {
   "codemirror_mode": {
    "name": "ipython",
    "version": 3
   },
   "file_extension": ".py",
   "mimetype": "text/x-python",
   "name": "python",
   "nbconvert_exporter": "python",
   "pygments_lexer": "ipython3",
   "version": "3.10.10"
  }
 },
 "nbformat": 4,
 "nbformat_minor": 5
}
